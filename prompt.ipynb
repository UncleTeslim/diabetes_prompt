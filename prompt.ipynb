{
  "nbformat": 4,
  "nbformat_minor": 0,
  "metadata": {
    "colab": {
      "provenance": [],
      "authorship_tag": "ABX9TyOkB4F1PVst6PCxwxbvz7jZ",
      "include_colab_link": true
    },
    "kernelspec": {
      "name": "python3",
      "display_name": "Python 3"
    },
    "language_info": {
      "name": "python"
    }
  },
  "cells": [
    {
      "cell_type": "markdown",
      "metadata": {
        "id": "view-in-github",
        "colab_type": "text"
      },
      "source": [
        "<a href=\"https://colab.research.google.com/github/UncleTeslim/diabetes_prompt/blob/main/prompt.ipynb\" target=\"_parent\"><img src=\"https://colab.research.google.com/assets/colab-badge.svg\" alt=\"Open In Colab\"/></a>"
      ]
    },
    {
      "cell_type": "code",
      "execution_count": 1,
      "metadata": {
        "id": "zUVNe4ggU_jk"
      },
      "outputs": [],
      "source": [
        "%%capture\n",
        "!pip install set-env-colab-kaggle-dotenv -q\n",
        "!pip install weave -U -q\n",
        "!pip install litellm -U -q\n",
        "# !pip install text_formatting -U -q"
      ]
    },
    {
      "cell_type": "code",
      "source": [
        "%%capture\n",
        "# from text_formatting import render\n",
        "from set_env import set_env\n",
        "set_env(\"WANDB_API_KEY\")\n",
        "set_env(\"OPENAI_API_KEY\")\n",
        "set_env(\"GEMINI_API_KEY\")"
      ],
      "metadata": {
        "id": "mXaC5aPcV08S"
      },
      "execution_count": 2,
      "outputs": []
    },
    {
      "cell_type": "code",
      "source": [
        "# from google.colab import userdata\n",
        "# userdata.get('OPEN_AI_API')\n",
        "# print(\"OPENAI_API_KEY\")"
      ],
      "metadata": {
        "id": "YaNAEIiRV1pH",
        "colab": {
          "base_uri": "https://localhost:8080/"
        },
        "outputId": "2e0dbd1c-5344-496f-ac16-2331deb7ee6f"
      },
      "execution_count": 4,
      "outputs": [
        {
          "output_type": "stream",
          "name": "stdout",
          "text": [
            "OPENAI_API_KEY\n"
          ]
        }
      ]
    },
    {
      "cell_type": "code",
      "source": [
        "%%capture\n",
        "import weave\n",
        "import litellm\n",
        "completion = litellm.completion"
      ],
      "metadata": {
        "id": "1RH6BxuMdlY1"
      },
      "execution_count": 3,
      "outputs": []
    },
    {
      "cell_type": "code",
      "source": [
        "OPENAI_MODEL_1 = \"gpt-4o\"\n",
        "OPENAI_MODEL_2 = \"gpt-4o-mini\"\n",
        "GOOGLE_MODEL_1 = \"gemini-2.0-flash\"\n",
        "GOOGLE_MODEL_2 = \"gemini-2.5-pro-exp-03-25\"\n",
        "\n",
        "\n",
        "DIABETES = \"diabetes-Copy.md\"\n",
        "\n",
        "MODEL_NAME = GOOGLE_MODEL_2\n",
        "PROMPT_GUIDE = DIABETES"
      ],
      "metadata": {
        "id": "rjkdoAA8dJ1x"
      },
      "execution_count": 4,
      "outputs": []
    },
    {
      "cell_type": "code",
      "source": [
        "weave.init(\"llm_self_project\")"
      ],
      "metadata": {
        "colab": {
          "base_uri": "https://localhost:8080/"
        },
        "id": "Uj96esV7gJs4",
        "outputId": "222c94ed-f237-415e-940e-9f36903250fb"
      },
      "execution_count": 5,
      "outputs": [
        {
          "output_type": "stream",
          "name": "stdout",
          "text": [
            "Logged in as Weights & Biases user: uncleteslim.\n",
            "View Weave data at https://wandb.ai/uncleteslim-none/llm_self_project/weave\n"
          ]
        },
        {
          "output_type": "execute_result",
          "data": {
            "text/plain": [
              "<weave.trace.weave_client.WeaveClient at 0x7ef331a083d0>"
            ]
          },
          "metadata": {},
          "execution_count": 5
        }
      ]
    },
    {
      "cell_type": "code",
      "source": [
        "@weave.op()\n",
        "def get_completion(system_message: str, messages: list, model: str, max_tokens: int = 4096, temperature: float = 0, custom_llm_provider: str = None, **kwargs) -> dict:\n",
        "    \"\"\"\n",
        "    Generates a completion using the specified model, taking into account the system message, conversation history, and additional arguments.\n",
        "\n",
        "    Parameters:\n",
        "        system_message (str): A message providing context or instructions for the model.\n",
        "        messages (list): A list of dictionaries representing the conversation history, where each dictionary has keys 'role' and 'content'.\n",
        "        model (str): The identifier of the model to use for generating completions.\n",
        "        max_tokens (int, optional): The maximum number of tokens to generate in the completion. Defaults to 4096.\n",
        "        temperature (float, optional): The sampling temperature to control the randomness of the generated text. Defaults to 0.\n",
        "        **kwargs: A dictionary of additional keyword arguments. Expected keys include 'system_message', 'model', 'max_tokens', and 'temperature'.\n",
        "\n",
        "    Returns:\n",
        "        dict: A dictionary representing the generated completion as JSON.\n",
        "    \"\"\"\n",
        "    # Adjust messages format based on the model type\n",
        "    if \"gpt\" in model.lower():\n",
        "        formatted_messages = [{\"role\": \"system\", \"content\": system_message}] + messages\n",
        "    else:\n",
        "        formatted_messages = messages\n",
        "        kwargs[\"system\"] = system_message  # For non-gpt models, use system_message directly in kwargs\n",
        "\n",
        "    # Common arguments for the completion function\n",
        "    completion_args = {\n",
        "        \"model\": model,\n",
        "        \"max_tokens\": max_tokens,\n",
        "        \"temperature\": temperature,\n",
        "        \"messages\": formatted_messages,\n",
        "        \"custom_llm_provider\": custom_llm_provider,\n",
        "        **kwargs\n",
        "    }\n",
        "\n",
        "    # Generate and return the completion\n",
        "    response = completion(**completion_args)\n",
        "    return response.json()"
      ],
      "metadata": {
        "id": "F2ixGCLegxTH"
      },
      "execution_count": 6,
      "outputs": []
    },
    {
      "cell_type": "code",
      "source": [
        "@weave.op()\n",
        "def prompt_llm(question: str, **kwargs) -> str:\n",
        "    \"\"\"\n",
        "    Sends a question to the language model and returns its response.\n",
        "\n",
        "    This function prepares a message with the user's question, handles additional\n",
        "    arguments for the language model, and invokes the get_completion function to\n",
        "    obtain a response. The response's content is then returned.\n",
        "\n",
        "    Parameters:\n",
        "        question (str): The question intended for the language model.\n",
        "        **kwargs: A dictionary of additional keyword arguments. Expected keys include 'system_message', 'model', 'max_tokens', and 'temperature'.\n",
        "\n",
        "    Returns:\n",
        "        str: The language model's response to the question.\n",
        "    \"\"\"\n",
        "    # Prepare the user's question for the language model\n",
        "    messages = [{\"role\": \"user\", \"content\": question}]\n",
        "\n",
        "    # Extract additional parameters, applying defaults if necessary\n",
        "    system_message = kwargs.pop('system_message', \"\")\n",
        "    model = kwargs.pop('model', MODEL_NAME)\n",
        "    max_tokens = kwargs.pop('max_tokens', 4096)\n",
        "    temperature = kwargs.pop('temperature', 0)\n",
        "    custom_llm_provider = kwargs.pop('custom_llm_provider', None)\n",
        "\n",
        "    # Compile arguments for the completion request\n",
        "    completion_args = {\n",
        "        \"system_message\": system_message,\n",
        "        \"messages\": messages,\n",
        "        \"model\": model,\n",
        "        \"max_tokens\": max_tokens,\n",
        "        \"temperature\": temperature,\n",
        "        \"custom_llm_provider\": custom_llm_provider\n",
        "    }\n",
        "    completion_args.update(kwargs)  # Properly include any other additional arguments\n",
        "\n",
        "    # Request a completion from the language model\n",
        "    response = get_completion(**completion_args)\n",
        "\n",
        "    # Extract and return the content of the model's response\n",
        "    return response[\"choices\"][0][\"message\"][\"content\"]"
      ],
      "metadata": {
        "id": "DRPnkFZQgWpn"
      },
      "execution_count": 7,
      "outputs": []
    },
    {
      "cell_type": "code",
      "source": [
        "# raw_prompt_response = prompt_llm(\n",
        "#     \"What is diabetes and what are the most common symptoms\"\n",
        "# )\n",
        "system_message = \"\"\"\n",
        "\n",
        "\"\"\"\n",
        "response = get_completion(\n",
        "    system_message=system_message,\n",
        "    messages=[{\"role\": \"user\", \"content\": \"what is diabetes? i was just diagnosed with diabetes, what do i do?\"}],\n",
        "    model=MODEL_NAME,  # or any other model\n",
        "    custom_llm_provider=\"gemini\"  # specify the provider\n",
        ")"
      ],
      "metadata": {
        "colab": {
          "base_uri": "https://localhost:8080/"
        },
        "id": "YWt_xeFohB0M",
        "outputId": "45a6f827-2df2-4271-ad6f-6d58322d06e1"
      },
      "execution_count": 10,
      "outputs": [
        {
          "output_type": "stream",
          "name": "stdout",
          "text": [
            "🍩 https://wandb.ai/uncleteslim-none/llm_self_project/r/call/0196010d-bdf9-7141-af80-06268b390b66\n"
          ]
        }
      ]
    },
    {
      "cell_type": "code",
      "source": [
        "# print(raw_prompt_response)\n",
        "content = response['choices'][0]['message']['content']\n",
        "print(content)"
      ],
      "metadata": {
        "colab": {
          "base_uri": "https://localhost:8080/"
        },
        "id": "bFTLJvWYrisV",
        "outputId": "03ed2bfc-b51b-462a-d1d4-b2a0c8220f04"
      },
      "execution_count": 11,
      "outputs": [
        {
          "output_type": "stream",
          "name": "stdout",
          "text": [
            "Okay, first things first: take a deep breath. Hearing you have diabetes can feel overwhelming, confusing, and maybe even scary. That's completely normal. But know this: **diabetes is manageable**, and you absolutely can live a long, healthy, and fulfilling life with it.\n",
            "\n",
            "Let's break down your questions:\n",
            "\n",
            "**1. What is Diabetes?**\n",
            "\n",
            "In simple terms, diabetes is a chronic (long-lasting) health condition that affects how your body turns food into energy.\n",
            "\n",
            "*   **The Process:** When you eat food, especially carbohydrates, your body breaks it down into sugar (glucose) which enters your bloodstream.\n",
            "*   **The Hormone:** Your pancreas releases a hormone called **insulin**. Insulin acts like a key, allowing the glucose from your blood to enter your body's cells to be used for energy.\n",
            "*   **What Goes Wrong in Diabetes:**\n",
            "    *   **Type 1 Diabetes:** Your body's immune system mistakenly attacks and destroys the insulin-producing cells in your pancreas. This means your body makes very little or no insulin. People with Type 1 need to take insulin every day to survive. (Often diagnosed in children/young adults, but can occur at any age).\n",
            "    *   **Type 2 Diabetes:** Your body either doesn't make enough insulin, or your cells don't respond properly to the insulin it does make (this is called insulin resistance). This is the most common type, often linked to lifestyle factors and genetics, and usually develops over time.\n",
            "    *   **Gestational Diabetes:** Develops during pregnancy in some women and usually goes away after the baby is born. However, it increases the risk for Type 2 diabetes later in life for both mother and child.\n",
            "\n",
            "*   **The Result:** In all types (if unmanaged), glucose builds up in your bloodstream instead of entering your cells. Over time, high blood glucose levels can damage various parts of your body, including your eyes, kidneys, nerves, and heart.\n",
            "\n",
            "**The goal of diabetes management is to keep your blood glucose levels within a target range to prevent these complications.**\n",
            "\n",
            "**2. I Was Just Diagnosed. What Do I Do?**\n",
            "\n",
            "This is the crucial part. Here's a step-by-step guide on what to focus on right now:\n",
            "\n",
            "1.  **Don't Panic, But Do Take it Seriously:** It's okay to feel emotional. Acknowledge those feelings. But also understand that this diagnosis is your cue to take proactive steps for your health. You *can* manage this.\n",
            "\n",
            "2.  **Follow Up With Your Healthcare Team:** This is your MOST important step.\n",
            "    *   **Doctor:** You likely have a follow-up appointment scheduled, or you should schedule one ASAP. This is where you'll get personalized information.\n",
            "    *   **Ask Questions:** Prepare a list! Don't be shy. Examples:\n",
            "        *   What type of diabetes do I have? (This is critical as management differs).\n",
            "        *   What should my target blood sugar levels be? (Before meals, after meals, at bedtime).\n",
            "        *   How often should I check my blood sugar? How do I use the meter/monitor?\n",
            "        *   What medication (if any) have you prescribed? How does it work? When do I take it? What are potential side effects?\n",
            "        *   Do I need to make changes to my diet? Can you refer me to a Registered Dietitian or Diabetes Educator? (HIGHLY recommended).\n",
            "        *   What kind of physical activity is safe and beneficial for me?\n",
            "        *   What are the signs of low blood sugar (hypoglycemia) and high blood sugar (hyperglycemia), and what do I do if they happen?\n",
            "        *   What other check-ups will I need now (e.g., eye exam, foot exam, kidney function tests)?\n",
            "\n",
            "3.  **Learn About Your Specific Type:** Management for Type 1 (requires insulin) is different from Type 2 (often starts with lifestyle changes, may involve oral medication or eventually insulin).\n",
            "\n",
            "4.  **Start Learning About Healthy Eating:** This doesn't mean deprivation! It means balance.\n",
            "    *   Focus on whole foods: vegetables, fruits, lean proteins, whole grains, healthy fats.\n",
            "    *   Be mindful of carbohydrates: Learn which foods contain carbs (bread, pasta, rice, fruit, starchy vegetables, sugary drinks, sweets) as they impact blood sugar most directly. Portion control is key.\n",
            "    *   Limit sugary drinks and highly processed foods.\n",
            "    *   **Work with a Registered Dietitian (RD) or Certified Diabetes Care and Education Specialist (CDCES):** They can create a personalized eating plan that fits your lifestyle and preferences. This is invaluable.\n",
            "\n",
            "5.  **Incorporate Physical Activity:**\n",
            "    *   Aim for regular movement. Even short walks make a difference.\n",
            "    *   Exercise helps your body use insulin more effectively and lowers blood sugar.\n",
            "    *   Talk to your doctor before starting a new exercise routine. Aim for about 150 minutes of moderate-intensity activity (like brisk walking) per week, spread out.\n",
            "\n",
            "6.  **Understand Blood Glucose Monitoring:**\n",
            "    *   If prescribed, learn how to use your blood glucose meter or Continuous Glucose Monitor (CGM).\n",
            "    *   Checking your blood sugar helps you see how food, activity, stress, and medication affect your levels, allowing you and your team to adjust your plan.\n",
            "\n",
            "7.  **Take Medications as Prescribed:** If your doctor prescribed medication (pills or insulin), understand why you're taking it and follow the instructions carefully. Don't stop or change doses without consulting your doctor.\n",
            "\n",
            "8.  **Seek Education and Support:**\n",
            "    *   **Diabetes Education Programs:** Ask your doctor about local programs. They teach practical skills for managing diabetes.\n",
            "    *   **Reputable Sources:** Look for information from organizations like the American Diabetes Association (ADA), Diabetes UK, JDRF, etc. Be wary of online \"cures\" or misinformation.\n",
            "    *   **Support System:** Talk to family and friends. Consider joining a support group (online or in-person) to connect with others living with diabetes. It helps to know you're not alone.\n",
            "\n",
            "9.  **Schedule Necessary Check-ups:** Diabetes can affect other parts of your body, so regular checks are vital:\n",
            "    *   A1c blood test (shows average blood sugar over 2-3 months)\n",
            "    *   Dilated eye exam (at least annually)\n",
            "    *   Foot exam (at every doctor visit, plus a comprehensive annual exam)\n",
            "    *   Kidney function tests\n",
            "    *   Blood pressure checks\n",
            "    *   Cholesterol checks\n",
            "\n",
            "**Key Takeaway:** You are now the leader of your healthcare team. Your doctor, dietitian, educator, and others are there to guide and support you, but your daily choices make the biggest difference. Be patient with yourself, focus on making small, sustainable changes, and don't hesitate to ask for help. You've got this!\n"
          ]
        }
      ]
    },
    {
      "cell_type": "code",
      "source": [
        "def load_markdown_file(file_path: str) -> str:\n",
        "    \"\"\"\n",
        "    Reads and returns the content of a markdown file specified by its path.\n",
        "\n",
        "    Parameters:\n",
        "        file_path (str): The path to the markdown file to be read.\n",
        "\n",
        "    Returns:\n",
        "        str: The content of the markdown file as a string.\n",
        "    \"\"\"\n",
        "    with open(file_path, 'r', encoding='utf-8') as file:\n",
        "        markdown_content = file.read()\n",
        "    return markdown_content\n",
        "context = load_markdown_file(PROMPT_GUIDE)"
      ],
      "metadata": {
        "id": "XyXpX0y4tKtL"
      },
      "execution_count": 13,
      "outputs": []
    },
    {
      "cell_type": "code",
      "source": [
        "# context_prompt_response = prompt_llm(\n",
        "#     context + \"\\n\\nWhat is diabetes and what are the most common symptoms\"\n",
        "# )\n",
        "\n",
        "\n",
        "context_prompt_response = prompt_llm(\n",
        "    context + \"\\n\\n68 year old male with type 2 diabetes and high blood pressure. What should this person be considering to manage their diabetes\",\n",
        "    model=MODEL_NAME,  # Specify the model you are using\n",
        "    custom_llm_provider=\"gemini\"  # Specify the provider for Gemini\n",
        ")"
      ],
      "metadata": {
        "colab": {
          "base_uri": "https://localhost:8080/"
        },
        "id": "TXV_wBhNtUha",
        "outputId": "297597c2-296b-4391-8eb9-2cc3e020f797"
      },
      "execution_count": 15,
      "outputs": [
        {
          "output_type": "stream",
          "name": "stdout",
          "text": [
            "🍩 https://wandb.ai/uncleteslim-none/llm_self_project/r/call/0196010f-9831-7e02-9529-7c9091d790f7\n"
          ]
        }
      ]
    },
    {
      "cell_type": "code",
      "source": [
        "print(context_prompt_response)"
      ],
      "metadata": {
        "colab": {
          "base_uri": "https://localhost:8080/"
        },
        "id": "Z6UbkNmXtmbl",
        "outputId": "dbae9ff2-2107-4fe2-ca60-310efd2b4e31"
      },
      "execution_count": 16,
      "outputs": [
        {
          "output_type": "stream",
          "name": "stdout",
          "text": [
            "Okay, based on the provided context about diabetes management, here's a breakdown of what a 68-year-old male with Type 2 Diabetes and High Blood Pressure should be considering:\n",
            "\n",
            "**Key Focus Areas:**\n",
            "\n",
            "1.  **The Diabetes ABCS - Especially B (Blood Pressure):**\n",
            "    *   **A1C:** Understand his personalized A1C goal (often <7%, but might be adjusted based on age/health) and ensure regular testing (every 3-6 months typically). Discuss this goal specifically with his healthcare team.\n",
            "    *   **Blood Pressure:** This is critical given his existing high blood pressure. He needs to work closely with his doctor to achieve and maintain his target BP (often below 130/80 mm Hg, potentially lower). This involves medication adherence and lifestyle changes. Controlling BP is vital to protect his heart, kidneys, brain, and eyes.\n",
            "    *   **Cholesterol:** Regular lipid panel testing is essential. He needs to discuss his target cholesterol levels with his doctor and whether medication (like a statin) is needed to manage heart attack/stroke risk.\n",
            "    *   **Stop Smoking:** If he smokes or vapes, quitting is paramount as it significantly worsens risks associated with both diabetes and high blood pressure.\n",
            "\n",
            "2.  **Medication Adherence:**\n",
            "    *   He likely takes medications for both diabetes and high blood pressure, possibly cholesterol too. It's crucial to take *all* prescribed medications exactly as directed, even if he feels well or his numbers are good.\n",
            "    *   He should communicate any side effects or cost concerns to his doctor rather than skipping doses.\n",
            "\n",
            "3.  **Healthy Lifestyle Modifications:**\n",
            "    *   **Healthy Meal Plan:** Focus on portion control, balanced meals, and limiting sodium (important for blood pressure). Working with a dietitian can help create a sustainable plan.\n",
            "    *   **Physical Activity:** Aim for the recommended 150 minutes/week of moderate activity (like brisk walking) plus strength training, *but* he should discuss appropriate types and intensity with his doctor, considering his age and any other health conditions. Activity helps manage glucose, blood pressure, and cholesterol.\n",
            "    *   **Healthy Weight:** If overweight, even modest weight loss can significantly improve blood glucose, blood pressure, and cholesterol levels. Discuss strategies with his healthcare team.\n",
            "    *   **Adequate Sleep:** Aiming for 7-8 hours helps overall health and blood glucose control.\n",
            "    *   **Stress Management:** Chronic conditions can be stressful. Finding healthy ways to cope is important for mental well-being and can impact blood glucose.\n",
            "\n",
            "4.  **Blood Glucose Monitoring:**\n",
            "    *   Understand *how* and *when* to check blood glucose at home (using a meter or potentially a CGM). Discuss frequency and target ranges (before/after meals) with his team. These targets might be adjusted based on his age and risk of hypoglycemia.\n",
            "    *   Keep records of readings, food, and activity to share with his healthcare team, helping them adjust his care plan.\n",
            "    *   Be aware of the symptoms of both low blood glucose (hypoglycemia) and high blood glucose (hyperglycemia) and know how to manage them. Hypoglycemia risk can increase with age and certain medications.\n",
            "\n",
            "5.  **Regular Check-ups and Team Collaboration:**\n",
            "    *   He is the central member of his care team. Regular follow-ups with his primary care provider are essential.\n",
            "    *   Ensure he gets recommended checks:\n",
            "        *   **Eye Exams:** Annual dilated eye exams to check for diabetic retinopathy.\n",
            "        *   **Foot Exams:** Regular checks by a healthcare provider and daily self-checks for sores, numbness, or changes (diabetes can affect nerves and circulation).\n",
            "        *   **Kidney Function Tests:** Regular blood and urine tests to monitor kidney health (high blood pressure and diabetes are major risk factors for kidney disease).\n",
            "        *   **Dental Check-ups:** Regular visits to check for gum disease.\n",
            "    *   Prepare questions for appointments to make the most of the time with his providers (doctor, potentially dietitian, pharmacist, specialists like cardiologist or nephrologist if needed).\n",
            "\n",
            "**In Summary:**\n",
            "\n",
            "For this individual, the focus should be on diligently managing *both* his Type 2 Diabetes and High Blood Pressure through consistent medication use, regular monitoring (A1C, BP, glucose, cholesterol), adopting heart-healthy lifestyle habits (diet, activity, weight), and maintaining close communication and regular check-ups with his entire healthcare team to prevent complications. His age may influence specific goals and treatment considerations, making personalized guidance from his doctor crucial.\n"
          ]
        }
      ]
    },
    {
      "cell_type": "code",
      "source": [
        "system_message = \"\"\"\n",
        "You are a knowledgeable assistant specializing in diabetes-related information.\n",
        "Your role is to provide accurate and comprehensive answers to user inquiries about diabetes,\n",
        "including its definition, symptoms, management, and treatment options.\n",
        "You have access to a diabetes documentation resource that contains detailed information on various aspects of the condition.\n",
        "Always ensure that your responses are clear, concise, and informative, and when necessary, reference the relevant sections of the documentation to support your answers.\n",
        "If a user asks a question that requires specific data or insights from the documentation, retrieve that information and present it in a user-friendly manner.\n",
        "\"\"\"\n",
        "\n",
        "system_message_response = prompt_llm(\n",
        "    context + \"\\n\\na 29 year old married woman has been diagnosed with diabetes. shes yet to have a baby and is worried this might affect. how would you advise the person??\",\n",
        "    system_message=system_message,\n",
        "    model=MODEL_NAME,\n",
        "    custom_llm_provider=\"gemini\"\n",
        ")\n"
      ],
      "metadata": {
        "colab": {
          "base_uri": "https://localhost:8080/"
        },
        "id": "WyqThXukjGxS",
        "outputId": "095f4dfb-bece-4c12-8c48-88bfce912784"
      },
      "execution_count": 19,
      "outputs": [
        {
          "output_type": "stream",
          "name": "stdout",
          "text": [
            "🍩 https://wandb.ai/uncleteslim-none/llm_self_project/r/call/01960111-acca-75e0-a946-3cb81e0305eb\n"
          ]
        }
      ]
    },
    {
      "cell_type": "code",
      "source": [
        "print(system_message_response)"
      ],
      "metadata": {
        "colab": {
          "base_uri": "https://localhost:8080/"
        },
        "id": "BGR0zfUWkEnH",
        "outputId": "e134625a-6e46-4e47-9479-e5223732a85c"
      },
      "execution_count": 20,
      "outputs": [
        {
          "output_type": "stream",
          "name": "stdout",
          "text": [
            "Okay, this is a very common and understandable concern for a young woman newly diagnosed with diabetes. It's great that she's thinking ahead. Here's how you can advise her, drawing from the provided context and general knowledge about diabetes and pregnancy:\n",
            "\n",
            "**1. Acknowledge and Validate Her Feelings:**\n",
            "\"It's completely understandable that you're worried about how diabetes might affect having a baby. A new diagnosis brings many questions, and thinking about pregnancy adds another layer. Please know that many women with diabetes have healthy pregnancies and healthy babies, but it does require careful planning and management.\"\n",
            "\n",
            "**2. Emphasize the Importance of Pre-Conception Planning:**\n",
            "\"The most crucial step is to plan *before* you start trying to conceive. Getting your diabetes under the best possible control *before* pregnancy significantly reduces risks for both you and the baby.\"\n",
            "\n",
            "**3. Connect to the Diabetes ABCS (Pre-Pregnancy Focus):**\n",
            "\"Think of the 'Diabetes ABCS' we discussed – they are especially important now:\n",
            "*   **A - A1C:** Your main goal before pregnancy will be to get your A1C as close to the target range recommended by your healthcare team as possible (often aiming for below 6.5% or even lower before conception, but *discuss this specific goal with your doctor*). Good blood glucose control in the very early weeks of pregnancy (often before you even know you're pregnant) is vital for the baby's development and reduces the risk of birth defects.\n",
            "*   **B - Blood Pressure:** Ensure your blood pressure is well-managed. High blood pressure can pose risks during pregnancy.\n",
            "*   **C - Cholesterol:** While less of a direct focus for fetal development, managing cholesterol is part of your overall health, which supports a healthy pregnancy.\n",
            "*   **S - Stop Smoking:** If you smoke or vape, stopping is essential for both your diabetes management and a healthy pregnancy.\"\n",
            "\n",
            "**4. Discuss Medication Review:**\n",
            "\"It's critical to review *all* your medications (for diabetes, blood pressure, cholesterol, etc.) with your doctor *before* trying to conceive. Some medications are not safe during pregnancy, and your doctor may need to switch you to alternatives, often insulin for blood glucose management during pregnancy.\"\n",
            "\n",
            "**5. Highlight Healthy Lifestyle:**\n",
            "\"Continue focusing on the healthy lifestyle habits mentioned:\n",
            "*   **Healthy Meal Plan:** Work with a dietitian to ensure you're getting the right nutrition, which will be important before and during pregnancy.\n",
            "*   **Physical Activity:** Regular activity helps with blood glucose control.\n",
            "*   **Healthy Weight:** Achieving a healthy weight before pregnancy can be beneficial.\n",
            "*   **Folic Acid:** Like all women planning pregnancy, you'll need to take folic acid supplements *before* conceiving to help prevent certain birth defects. Your doctor might recommend a specific dose.\"\n",
            "\n",
            "**6. Reinforce Blood Glucose Monitoring:**\n",
            "\"You'll need to monitor your blood glucose levels very closely, likely more often than usual, both before and during pregnancy. Understanding your levels helps you and your team make adjustments to keep them in the target range, which might be tighter during pregnancy.\"\n",
            "\n",
            "**7. Stress the Importance of the Healthcare Team:**\n",
            "\"Build a strong relationship with your healthcare team now. You'll likely work closely with:\n",
            "*   Your primary care provider or endocrinologist (diabetes specialist).\n",
            "*   Possibly a Maternal-Fetal Medicine (MFM) specialist (an OB/GYN specializing in high-risk pregnancies) once you are planning or become pregnant.\n",
            "*   A registered dietitian or diabetes educator.\n",
            "*   Your eye doctor (retinopathy can sometimes worsen during pregnancy, so checks are important).\n",
            "*   Make sure to discuss your plans to have a baby openly with all of them.\"\n",
            "\n",
            "**8. Address Mental Health:**\n",
            "\"Managing diabetes and planning for pregnancy can be stressful. Don't hesitate to talk about your worries with your partner, your healthcare team, or seek support from a mental health professional if needed.\"\n",
            "\n",
            "**Key Takeaway Message:**\n",
            "\"While diabetes adds considerations to pregnancy planning, it doesn't mean you can't have a healthy baby. The key is proactive management, working closely with your healthcare team *before* you get pregnant to get your blood glucose, blood pressure, and overall health in the best possible shape. Schedule an appointment specifically to discuss your desire to have a baby and create a pre-conception plan.\"\n"
          ]
        }
      ]
    },
    {
      "cell_type": "code",
      "source": [
        "system_message = \"\"\"\n",
        "You are a knowledgeable assistant specializing in diabetes-related information.\n",
        "Your role is to provide accurate and comprehensive answers to user inquiries about diabetes,\n",
        "including its definition, symptoms, management, and treatment options.\n",
        "You have access to a diabetes documentation resource that contains detailed information on various aspects of the condition.\n",
        "Always ensure that your responses are clear, concise, and informative, and when necessary, reference the relevant sections of the documentation to support your answers.\n",
        "If a user asks a question that requires specific data or insights from the documentation, retrieve that information and present it in a user-friendly manner.\n",
        "\"\"\"\n",
        "\n",
        "system_message_response = prompt_llm(\n",
        "    context + \"\\n\\n65 year old woman who just been diagnosed with diabetes. what sort of food should be be esating or avoiding??\",\n",
        "    system_message=system_message,\n",
        "    model=MODEL_NAME,\n",
        "    custom_llm_provider=\"gemini\"\n",
        ")"
      ],
      "metadata": {
        "colab": {
          "base_uri": "https://localhost:8080/"
        },
        "id": "1RfEqgz5FjDI",
        "outputId": "c9ebee38-a22d-449d-86dc-8ce4c607a48b"
      },
      "execution_count": 21,
      "outputs": [
        {
          "output_type": "stream",
          "name": "stdout",
          "text": [
            "🍩 https://wandb.ai/uncleteslim-none/llm_self_project/r/call/01960116-806f-7030-a886-ef9bb5179e74\n"
          ]
        }
      ]
    },
    {
      "cell_type": "code",
      "source": [
        "print(system_message_response)"
      ],
      "metadata": {
        "colab": {
          "base_uri": "https://localhost:8080/"
        },
        "id": "_MeHUJVPFwP8",
        "outputId": "89c5d1d4-192a-4f54-ee45-1f2b29a7ddaa"
      },
      "execution_count": 22,
      "outputs": [
        {
          "output_type": "stream",
          "name": "stdout",
          "text": [
            "Okay, based on the provided context about diabetes management, here's a guide on food choices for a newly diagnosed 65-year-old woman.\n",
            "\n",
            "**Most Important First Step:**\n",
            "\n",
            "*   **Consult the Healthcare Team:** The context strongly emphasizes personalization. The *best* advice will come from her doctor, a **registered dietitian (RD)**, or a **certified diabetes care and education specialist (CDCES)**. They can create a meal plan tailored to her specific needs, preferences, other health conditions, and medication.\n",
            "\n",
            "**General Principles (Based on the Context):**\n",
            "\n",
            "1.  **Focus on Balance & Portion Control, Not Strict Elimination:** As the context states, it's often about managing *how much* and *how often* you eat certain foods, rather than banning favorites entirely.\n",
            "2.  **Manage the ABCS:** Food choices directly impact Blood Glucose (A1C), Blood Pressure, and Cholesterol. The goal is to choose foods that help manage all three.\n",
            "3.  **Consistency is Key:** Eating regular meals and snacks can help keep blood glucose levels more stable.\n",
            "4.  **Monitor Blood Glucose:** Checking blood glucose at home (as discussed in the context) will help her learn how different foods affect *her* body specifically.\n",
            "\n",
            "**Foods to Emphasize (Focus on These):**\n",
            "\n",
            "*   **Non-Starchy Vegetables:** These are low in carbohydrates and high in vitamins, minerals, and fiber. They should make up a large portion of the plate.\n",
            "    *   *Examples:* Leafy greens (spinach, kale, lettuce), broccoli, cauliflower, peppers, green beans, carrots, cucumbers, tomatoes, mushrooms, onions.\n",
            "*   **Lean Proteins:** Protein helps with satiety and has less impact on blood glucose than carbohydrates.\n",
            "    *   *Examples:* Chicken or turkey breast (skinless), fish (especially fatty fish like salmon for heart health), eggs, beans, lentils, tofu, lean cuts of beef or pork in moderation.\n",
            "*   **Whole Grains & High-Fiber Starches (in controlled portions):** Fiber slows down sugar absorption. Portion control is crucial here.\n",
            "    *   *Examples:* Brown rice, quinoa, oats (not instant with added sugar), whole-wheat bread/pasta, barley, farro, starchy vegetables like sweet potatoes or corn (again, watch portions).\n",
            "*   **Fruits (in moderation):** Provide vitamins and fiber but also contain natural sugars. Choose whole fruits over juices.\n",
            "    *   *Examples:* Berries, apples, pears, oranges, melon. Portion size is important (e.g., a small apple, half a banana, a cup of berries).\n",
            "*   **Healthy Fats:** Important for heart health (helps with the 'C' - Cholesterol).\n",
            "    *   *Examples:* Avocado, nuts (almonds, walnuts), seeds (chia, flax, pumpkin), olive oil, canola oil. Portion control is needed as fats are calorie-dense.\n",
            "*   **Water & Unsweetened Beverages:** Stay hydrated without adding sugar or calories.\n",
            "    *   *Examples:* Water, unsweetened tea, black coffee, sparkling water.\n",
            "\n",
            "**Foods to Limit or Be Mindful Of:**\n",
            "\n",
            "*   **Sugary Drinks:** These cause rapid spikes in blood glucose.\n",
            "    *   *Examples:* Regular soda, fruit juice (even 100%), sweet tea, sports drinks, energy drinks, sweetened coffee drinks.\n",
            "*   **Refined Carbohydrates:** These act similarly to sugar in the body, raising blood glucose quickly.\n",
            "    *   *Examples:* White bread, white rice, most pasta (unless whole grain), sugary breakfast cereals, pastries, cookies, cakes, crackers made with white flour.\n",
            "*   **Processed Foods & Snacks:** Often high in unhealthy fats, sodium (bad for blood pressure), and hidden sugars.\n",
            "    *   *Examples:* Chips, packaged snacks, processed meats (sausage, bacon, deli meats - high in sodium/fat), frozen meals (check labels carefully), fast food.\n",
            "*   **Saturated and Trans Fats:** Can negatively impact cholesterol levels.\n",
            "    *   *Examples:* Fatty cuts of meat, fried foods, butter, lard, shortening, many processed baked goods. (Trans fats are largely banned but can still exist in small amounts).\n",
            "*   **High-Sodium Foods:** Contribute to high blood pressure (the 'B' in ABCS).\n",
            "    *   *Examples:* Canned soups (unless low sodium), processed meats, pickles, soy sauce, table salt, many restaurant and packaged foods. Encourage reading labels for sodium content.\n",
            "\n",
            "**Key Takeaways from the Context:**\n",
            "\n",
            "*   **Work with Professionals:** Get personalized advice from an RD or CDCES.\n",
            "*   **Portion Sizes Matter:** Even healthy foods need to be eaten in appropriate amounts. Learning about portion sizes is crucial.\n",
            "*   **Read Food Labels:** Pay attention to serving sizes, carbohydrates, fiber, sugar, sodium, and types of fat.\n",
            "*   **Connect Food to Monitoring:** Use blood glucose readings to understand personal responses to different meals.\n",
            "*   **It's Part of a Lifestyle:** Healthy eating works best alongside physical activity, medication adherence (if prescribed), stress management, and adequate sleep.\n",
            "\n",
            "Starting with small, manageable changes is often more sustainable than a complete overhaul. Encourage her to focus on adding more non-starchy vegetables and lean protein while gradually reducing sugary drinks and refined carbohydrates.\n"
          ]
        }
      ]
    }
  ]
}